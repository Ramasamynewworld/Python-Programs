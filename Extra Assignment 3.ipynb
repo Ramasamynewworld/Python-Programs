{
 "cells": [
  {
   "cell_type": "code",
   "execution_count": 16,
   "id": "b3c279ea-3c69-463f-930d-4a201b3989f6",
   "metadata": {},
   "outputs": [
    {
     "name": "stdin",
     "output_type": "stream",
     "text": [
      "enter the value 10\n"
     ]
    },
    {
     "name": "stdout",
     "output_type": "stream",
     "text": [
      "Value : 10 \n",
      "correct\n"
     ]
    }
   ],
   "source": [
    "i = int(input(\"enter the value\"))\n",
    "if (i == 10):\n",
    "    print ( \"Value :\", i, \"\")\n",
    "    print(\"correct\")"
   ]
  },
  {
   "cell_type": "code",
   "execution_count": 22,
   "id": "2d934a41-527e-4c26-bf69-0463a84bf7fd",
   "metadata": {},
   "outputs": [
    {
     "name": "stdin",
     "output_type": "stream",
     "text": [
      "enter the  password hope@123\n"
     ]
    },
    {
     "name": "stdout",
     "output_type": "stream",
     "text": [
      "your password is incorrect , Try again\n"
     ]
    }
   ],
   "source": [
    "pwd = input(\"enter the  password\")\n",
    "if (pwd == 'Hope@123'):\n",
    "    print(\"your password is correct\")\n",
    "else:\n",
    "    print(\"your password is incorrect , Try again\")\n",
    "    \n",
    "    "
   ]
  },
  {
   "cell_type": "code",
   "execution_count": 32,
   "id": "4adae3a3-96d4-4d99-8e38-f9da8fd9bad3",
   "metadata": {},
   "outputs": [
    {
     "name": "stdin",
     "output_type": "stream",
     "text": [
      "enter your age 20\n"
     ]
    },
    {
     "name": "stdout",
     "output_type": "stream",
     "text": [
      "Adult\n"
     ]
    }
   ],
   "source": [
    "age=int(input(\"enter your age\"))\n",
    "if (age > 0 and age <= 2): \n",
    "    print('infant')\n",
    "elif (age > 2 and age <=12):\n",
    "    print('child')\n",
    "elif(age > 12 and age <=18):\n",
    "    print('Teenagers')\n",
    "elif(age > 18 and age <=60):\n",
    "    print('Adult')\n",
    "elif(age > 60 and age <=80):\n",
    "    print('senior citizen')\n",
    "else:\n",
    "    print('super senior citizen')\n",
    "    "
   ]
  },
  {
   "cell_type": "code",
   "execution_count": 44,
   "id": "e1870589-5764-4561-8129-ba0799335248",
   "metadata": {},
   "outputs": [
    {
     "name": "stdin",
     "output_type": "stream",
     "text": [
      "Enter the number 52\n"
     ]
    },
    {
     "name": "stdout",
     "output_type": "stream",
     "text": [
      "Entered number is a postive value \n"
     ]
    }
   ],
   "source": [
    "#Find the number is postive or negative or zero\n",
    "num=int(input(\"Enter the number\"))\n",
    "if (num > 0):\n",
    "    print('Entered number is a postive value ')\n",
    "elif (num < 0):\n",
    "    print('Entered Number is a negative valiue')\n",
    "else:\n",
    "    print('Zero')\n"
   ]
  },
  {
   "cell_type": "code",
   "execution_count": 52,
   "id": "35abdb7e-2849-443d-8fe5-3b618c0f6ed4",
   "metadata": {},
   "outputs": [
    {
     "name": "stdin",
     "output_type": "stream",
     "text": [
      "Enter the number 26\n"
     ]
    },
    {
     "name": "stdout",
     "output_type": "stream",
     "text": [
      "Given number is not divisible by 5\n"
     ]
    }
   ],
   "source": [
    "#check whether given number is divisible by 5 \n",
    "num=int(input(\"Enter the number\"))\n",
    "if (num%5 == 0):\n",
    "    print('Given number is divisible by 5')\n",
    "else:\n",
    "    print('Given number is not divisible by 5')\n"
   ]
  },
  {
   "cell_type": "code",
   "execution_count": null,
   "id": "075dd9fa-a8cc-4cca-9b7e-95a657d2962c",
   "metadata": {},
   "outputs": [],
   "source": []
  }
 ],
 "metadata": {
  "kernelspec": {
   "display_name": "Python 3 (ipykernel)",
   "language": "python",
   "name": "python3"
  },
  "language_info": {
   "codemirror_mode": {
    "name": "ipython",
    "version": 3
   },
   "file_extension": ".py",
   "mimetype": "text/x-python",
   "name": "python",
   "nbconvert_exporter": "python",
   "pygments_lexer": "ipython3",
   "version": "3.12.4"
  }
 },
 "nbformat": 4,
 "nbformat_minor": 5
}
