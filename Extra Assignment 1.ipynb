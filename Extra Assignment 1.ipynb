{
 "cells": [
  {
   "cell_type": "code",
   "execution_count": 2,
   "id": "2692f112-405f-44aa-aca6-1ac81050b21f",
   "metadata": {},
   "outputs": [
    {
     "name": "stdout",
     "output_type": "stream",
     "text": [
      "HOPE AI\n"
     ]
    }
   ],
   "source": [
    "print(\"HOPE AI\")"
   ]
  },
  {
   "cell_type": "code",
   "execution_count": 10,
   "id": "7fc14c72-7cd2-4bc9-a550-288c59e52eec",
   "metadata": {},
   "outputs": [
    {
     "name": "stdin",
     "output_type": "stream",
     "text": [
      "Enter the name of the institute: HOPE AI \n"
     ]
    }
   ],
   "source": [
    "INSName = input(\"Enter the name of the institute:\")"
   ]
  },
  {
   "cell_type": "code",
   "execution_count": 18,
   "id": "543089ad-a59c-40cf-b411-74539ee59a0d",
   "metadata": {},
   "outputs": [
    {
     "name": "stdin",
     "output_type": "stream",
     "text": [
      "Enter your name: Kamala\n",
      "Enter your age: 12\n",
      "Enter your school: Kalaimagal\n",
      "Enter your Degree: B.E CSE\n"
     ]
    }
   ],
   "source": [
    "Name = input(\"Enter your name:\")\n",
    "Age  = int(input(\"Enter your age:\"))\n",
    "School = input(\"Enter your school:\")\n",
    "Degree = input(\"Enter your Degree:\")"
   ]
  },
  {
   "cell_type": "code",
   "execution_count": 38,
   "id": "7b678af9-4718-4ea0-8df3-b1333097ef78",
   "metadata": {},
   "outputs": [
    {
     "name": "stdin",
     "output_type": "stream",
     "text": [
      "a= 43\n",
      "b= 34\n"
     ]
    },
    {
     "name": "stdout",
     "output_type": "stream",
     "text": [
      "add=  77\n"
     ]
    }
   ],
   "source": [
    "a = int(input(\"a=\"))\n",
    "b = int(input(\"b=\"))\n",
    "add = a+b \n",
    "print(\"add = \",add)"
   ]
  },
  {
   "cell_type": "code",
   "execution_count": 40,
   "id": "8c0f88d6-023d-4fb5-a96b-d0bc320c04c9",
   "metadata": {},
   "outputs": [
    {
     "name": "stdin",
     "output_type": "stream",
     "text": [
      "a= 43\n",
      "b= 34\n"
     ]
    },
    {
     "name": "stdout",
     "output_type": "stream",
     "text": [
      "sub =  9\n"
     ]
    }
   ],
   "source": [
    "a = int(input(\"a=\"))\n",
    "b = int(input(\"b=\"))\n",
    "sub = a-b \n",
    "print(\"sub = \",sub)"
   ]
  },
  {
   "cell_type": "code",
   "execution_count": 50,
   "id": "d7bc4874-b54f-4e95-a337-b434bd95c241",
   "metadata": {},
   "outputs": [
    {
     "name": "stdin",
     "output_type": "stream",
     "text": [
      "a= 53.5\n",
      "b= 63.5\n"
     ]
    },
    {
     "name": "stdout",
     "output_type": "stream",
     "text": [
      "Mul =  3397.25\n"
     ]
    }
   ],
   "source": [
    "a = float(input(\"a=\"))\n",
    "b = float(input(\"b=\"))\n",
    "Mul  = a*b \n",
    "print(\"Mul = \",Mul)"
   ]
  },
  {
   "cell_type": "code",
   "execution_count": 52,
   "id": "aac615d6-dcdf-4072-b9cc-9bf10425f288",
   "metadata": {},
   "outputs": [
    {
     "name": "stdin",
     "output_type": "stream",
     "text": [
      "a= 53\n",
      "b= 25\n"
     ]
    },
    {
     "name": "stdout",
     "output_type": "stream",
     "text": [
      "Div =  2.12\n"
     ]
    }
   ],
   "source": [
    "a = float(input(\"a=\"))\n",
    "b = float(input(\"b=\"))\n",
    "Div  = a/b \n",
    "print(\"Div = \",Div)"
   ]
  },
  {
   "cell_type": "code",
   "execution_count": 54,
   "id": "cd90df54-3f60-40ff-b5fb-d01b9df44658",
   "metadata": {},
   "outputs": [
    {
     "name": "stdin",
     "output_type": "stream",
     "text": [
      "a= 76\n",
      "b= 31\n"
     ]
    },
    {
     "name": "stdout",
     "output_type": "stream",
     "text": [
      "Div =  2.4516129032258065\n"
     ]
    }
   ],
   "source": [
    "a = int(input(\"a=\"))\n",
    "b = int(input(\"b=\"))\n",
    "Div  = a/b \n",
    "print(\"Div = \",Div)"
   ]
  },
  {
   "cell_type": "code",
   "execution_count": 62,
   "id": "f31a277c-9c86-4ba4-b19a-ec365cc28655",
   "metadata": {},
   "outputs": [
    {
     "name": "stdin",
     "output_type": "stream",
     "text": [
      "a= 76\n",
      "b= 32\n"
     ]
    },
    {
     "name": "stdout",
     "output_type": "stream",
     "text": [
      "Floor Div =  2\n"
     ]
    }
   ],
   "source": [
    "a = int(input(\"a=\"))\n",
    "b = int(input(\"b=\"))\n",
    "floordiv  = a//b \n",
    "print(\"Floor Div = \",floordiv)"
   ]
  },
  {
   "cell_type": "code",
   "execution_count": 64,
   "id": "31c846b4-3b2e-4615-9442-5ad569786964",
   "metadata": {},
   "outputs": [
    {
     "name": "stdin",
     "output_type": "stream",
     "text": [
      "a= 76\n",
      "b= 32\n"
     ]
    },
    {
     "name": "stdout",
     "output_type": "stream",
     "text": [
      "Modulo =  12\n"
     ]
    }
   ],
   "source": [
    "a = int(input(\"a=\"))\n",
    "b = int(input(\"b=\"))\n",
    "modulo  = a%b \n",
    "print(\"Modulo = \",modulo)"
   ]
  },
  {
   "cell_type": "code",
   "execution_count": 66,
   "id": "8e867a59-63f6-49e5-9f40-6bf4d2e029a7",
   "metadata": {},
   "outputs": [
    {
     "name": "stdin",
     "output_type": "stream",
     "text": [
      "a= 4\n",
      "b= 4\n"
     ]
    },
    {
     "name": "stdout",
     "output_type": "stream",
     "text": [
      "power =  256\n"
     ]
    }
   ],
   "source": [
    "a = int(input(\"a=\"))\n",
    "b = int(input(\"b=\"))\n",
    "power  = a**b \n",
    "print(\"power = \",power)"
   ]
  },
  {
   "cell_type": "code",
   "execution_count": null,
   "id": "76d92a17-b0d7-43fb-8910-98f412e8bd50",
   "metadata": {},
   "outputs": [],
   "source": []
  }
 ],
 "metadata": {
  "kernelspec": {
   "display_name": "Python 3 (ipykernel)",
   "language": "python",
   "name": "python3"
  },
  "language_info": {
   "codemirror_mode": {
    "name": "ipython",
    "version": 3
   },
   "file_extension": ".py",
   "mimetype": "text/x-python",
   "name": "python",
   "nbconvert_exporter": "python",
   "pygments_lexer": "ipython3",
   "version": "3.12.4"
  }
 },
 "nbformat": 4,
 "nbformat_minor": 5
}
